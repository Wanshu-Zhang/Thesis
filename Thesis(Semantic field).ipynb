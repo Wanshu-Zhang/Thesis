{
 "cells": [
  {
   "cell_type": "code",
   "execution_count": 2,
   "id": "7f110eaa",
   "metadata": {},
   "outputs": [],
   "source": [
    "import pandas as pd \n",
    "import gensim\n",
    "from gensim.models import KeyedVectors\n",
    "from sklearn.cluster import AgglomerativeClustering\n",
    "import jieba\n",
    "import numpy as np\n",
    "from sklearn import manifold\n",
    "import matplotlib.pyplot as plt\n",
    "from sklearn.metrics import silhouette_score\n",
    "# load the model  \n",
    "model = gensim.models.KeyedVectors.load_word2vec_format('baike_26g_news_13g_novel_229g.bin',binary=True) "
   ]
  },
  {
   "cell_type": "code",
   "execution_count": 3,
   "id": "106b2437",
   "metadata": {},
   "outputs": [
    {
     "data": {
      "text/plain": [
       "[('语句', 0.7241232991218567),\n",
       " ('词句', 0.6802310943603516),\n",
       " ('用语', 0.6705212593078613),\n",
       " ('肢体语言', 0.6669173240661621),\n",
       " ('中文', 0.6656090021133423),\n",
       " ('词汇', 0.6639605164527893),\n",
       " ('恶魔语', 0.659858763217926),\n",
       " ('汉语', 0.6580660343170166),\n",
       " ('通用语', 0.6569659113883972),\n",
       " ('倭语', 0.6442402601242065)]"
      ]
     },
     "execution_count": 3,
     "metadata": {},
     "output_type": "execute_result"
    }
   ],
   "source": [
    "model.most_similar('语言') #vertify whether the model is loaded.  "
   ]
  },
  {
   "cell_type": "code",
   "execution_count": 38,
   "id": "952130c8",
   "metadata": {},
   "outputs": [],
   "source": [
    "texts2=[\"手\", \"人\", \"马\", \"车\", \"头\", \"声\", \"力\", \"绳子\", \"火车\", \"衣服\", \"姑娘\", \"家\", \"距离\", \"格\", \"儿子\", \"教授\", \"右手\", \"时间\", \"双手\", \"时候\", \"妈\", \"腿\", \"先生\", \"大家\", \"东西\", \"老牛\", \"战线\", \"男人\", \"牛\", \"掌\", \"子\", \"母亲\", \"一手\", \"话\", \"脸\", \"牲口\", \"力气\", \"疤\", \"孩子\", \"青年\", \"方向\", \"老人\", \"胡子\", \"眼睛\", \"下意识\", \"圈\", \"水\", \"音\", \"饭\", \"同志\", \"媳妇\", \"手榴弹\", \"身\", \"队\", \"飞机\", \"网\", \"妇\", \"兄弟\", \"狗\", \"车子\", \"球\", \"水平\"]"
   ]
  },
  {
   "cell_type": "code",
   "execution_count": 39,
   "id": "5275cd17",
   "metadata": {},
   "outputs": [
    {
     "name": "stdout",
     "output_type": "stream",
     "text": [
      "0\n"
     ]
    },
    {
     "data": {
      "text/plain": [
       "datetime.timedelta(microseconds=2992)"
      ]
     },
     "execution_count": 39,
     "metadata": {},
     "output_type": "execute_result"
    }
   ],
   "source": [
    "from datetime import datetime\n",
    "import numpy as np\n",
    "start = datetime.now()\n",
    "embedding2 = []\n",
    "\n",
    "for idx, line in enumerate(texts2):\n",
    "    vector = np.zeros(128)\n",
    "    \n",
    "    for word in line:\n",
    "        \n",
    "        if word not in model.key_to_index:\n",
    "            vector += np.zeros(128)\n",
    "        else:\n",
    "            vector += model[word]\n",
    "    embedding2.append(vector)\n",
    "    if (idx%100==0):\n",
    "        print(idx)\n",
    "    \n",
    "end = datetime.now() \n",
    "end-start"
   ]
  },
  {
   "cell_type": "code",
   "execution_count": 33,
   "id": "181a44b0",
   "metadata": {},
   "outputs": [
    {
     "data": {
      "image/png": "[encoded data removed]",
      "text/plain": [
       "<Figure size 432x288 with 1 Axes>"
      ]
     },
     "metadata": {
      "needs_background": "light"
     },
     "output_type": "display_data"
    }
   ],
   "source": [
    "nums=range(2,10)\n",
    "score=[]\n",
    "for num in nums:\n",
    "    clst=AgglomerativeClustering(n_clusters=num)\n",
    "    y=clst.fit_predict(embedding2)\n",
    "    score.append(silhouette_score(embedding2,y,sample_size=len(embedding2),metric='euclidean'))\n",
    "\n",
    "fig=plt.figure()\n",
    "ax=fig.add_subplot(1,1,1)\n",
    "ax.plot(nums,score,marker=\"+\")\n",
    "ax.set_xlabel(\"n_clusters\")\n",
    "ax.set_ylabel(\"silhouette_score\")\n",
    "fig.suptitle(\"AgglomerativeClustering\")\n",
    "plt.show()"
   ]
  },
  {
   "cell_type": "markdown",
   "id": "abbf9314",
   "metadata": {},
   "source": [
    "Through the plot we can set the cluster number as 6."
   ]
  },
  {
   "cell_type": "code",
   "execution_count": 34,
   "id": "9ed11ed9",
   "metadata": {},
   "outputs": [
    {
     "data": {
      "text/plain": [
       "array([4, 0, 0, 0, 2, 0, 3, 5, 0, 0, 0, 0, 1, 0, 5, 0, 4, 2, 4, 2, 0, 0,\n",
       "       0, 0, 1, 0, 0, 0, 0, 0, 5, 0, 4, 1, 2, 0, 3, 0, 5, 1, 2, 0, 5, 2,\n",
       "       2, 0, 0, 0, 0, 0, 0, 4, 0, 0, 0, 0, 0, 0, 0, 0, 0, 0], dtype=int64)"
      ]
     },
     "execution_count": 34,
     "metadata": {},
     "output_type": "execute_result"
    }
   ],
   "source": [
    "clst=AgglomerativeClustering(n_clusters=6)\n",
    " \n",
    "clst.fit_predict(embedding2)"
   ]
  },
  {
   "cell_type": "markdown",
   "id": "ff178700",
   "metadata": {},
   "source": [
    "This array shows the id of cluster of each word."
   ]
  },
  {
   "cell_type": "code",
   "execution_count": 30,
   "id": "8f302b2c",
   "metadata": {},
   "outputs": [],
   "source": [
    "from sklearn.cluster import KMeans\n",
    "n_clusters=6\n",
    "kmeans = KMeans(n_clusters, random_state=1).fit(embedding2)\n",
    "y_pred = kmeans.labels_\n",
    "cluster_center = kmeans.cluster_centers_"
   ]
  },
  {
   "cell_type": "code",
   "execution_count": 31,
   "id": "e7968f75",
   "metadata": {},
   "outputs": [
    {
     "data": {
      "text/plain": [
       "Counter({3: 8, 5: 31, 2: 2, 1: 6, 4: 4, 0: 11})"
      ]
     },
     "execution_count": 31,
     "metadata": {},
     "output_type": "execute_result"
    }
   ],
   "source": [
    "from collections import Counter\n",
    "\n",
    "center_dict2 = Counter(y_pred)\n",
    "center_dict2"
   ]
  },
  {
   "cell_type": "code",
   "execution_count": 32,
   "id": "471f6288",
   "metadata": {},
   "outputs": [
    {
     "name": "stdout",
     "output_type": "stream",
     "text": [
      "Data in category 0:\n",
      "家\t距离\t教授\t先生\t大家\t东西\t战线\t青年\t同志\t兄弟\t\n",
      "\n",
      "水平\tData in category 1:\n",
      "绳子\t儿子\t子\t孩子\t胡子\t车子\tData in category 2:\n",
      "力\t力气\tData in category 3:\n",
      "手\t头\t右手\t双手\t腿\t一手\t脸\t手榴弹\tData in category 4:\n",
      "衣服\t母亲\t饭\t网\tData in category 5:\n",
      "人\t马\t车\t声\t火车\t姑娘\t格\t时间\t时候\t妈\t\n",
      "\n",
      "老牛\t男人\t牛\t掌\t话\t牲口\t疤\t方向\t老人\t眼睛\t\n",
      "\n",
      "下意识\t圈\t水\t音\t媳妇\t身\t队\t飞机\t妇\t狗\t\n",
      "\n",
      "球\t"
     ]
    }
   ],
   "source": [
    "for n_category in range(6):\n",
    "    res = np.array(texts2)[(y_pred == n_category)]\n",
    "    count = 0\n",
    "    print(f\"Data in category {n_category}:\")\n",
    "    count = 0\n",
    "    for word in res:\n",
    "        print(f\"{word}\\t\",end=\"\")\n",
    "        count = count + 1\n",
    "        if(count % 10 == 0):\n",
    "            print(f\"\\n\")"
   ]
  },
  {
   "cell_type": "code",
   "execution_count": 35,
   "id": "b03eb3fb",
   "metadata": {},
   "outputs": [],
   "source": [
    "texts3 = [\"手\", \"车\", \"人\", \"风箱\", \"犁\", \"洋车\", \"家\", \"话\", \"山\", \"小提琴\", \"绳子\", \"弹簧\", \"应力\", \"弦\", \"马\", \"骆驼\", \"屎\", \"衣服\", \"火\", \"头\", \"车子\", \"二胡\", \"胳膊\", \"牛\", \"脚\", \"水\", \"儿子\", \"妈\", \"开关\", \"灯\", \"妻子\", \"身子\", \"门\", \"妈妈\", \"衣襟\", \"房间\", \"衣角\", \"船\", \"一边\", \"协奏曲\", \"火车\", \"胡琴\", \"心\", \"大车\", \"茬\", \"房门\", \"椅子\", \"大家\", \"嘴\", \"袖子\", \"农具\", \"图\", \"声\", \"泔水\", \"低声\", \"丈夫\", \"油\", \"货物\", \"爸爸\", \"步\", \"大嫂\", \"时候\", \"东西\", \"队长\", \"姑娘\", \"机\", \"车厢\", \"客车\", \"猴\", \"雪橇\", \"物体\"]"
   ]
  },
  {
   "cell_type": "code",
   "execution_count": 36,
   "id": "324111c7",
   "metadata": {},
   "outputs": [
    {
     "name": "stdout",
     "output_type": "stream",
     "text": [
      "0\n"
     ]
    },
    {
     "data": {
      "text/plain": [
       "datetime.timedelta(microseconds=2010)"
      ]
     },
     "execution_count": 36,
     "metadata": {},
     "output_type": "execute_result"
    }
   ],
   "source": [
    "from datetime import datetime\n",
    "import numpy as np\n",
    "start = datetime.now()\n",
    "embedding3 = []\n",
    "\n",
    "for idx, line in enumerate(texts3):\n",
    "    vector = np.zeros(128)\n",
    "    \n",
    "    for word in line:\n",
    "        \n",
    "        if word not in model.key_to_index:\n",
    "            vector += np.zeros(128)\n",
    "        else:\n",
    "            vector += model[word]\n",
    "    embedding3.append(vector)\n",
    "    if (idx%100==0):\n",
    "        print(idx)\n",
    "    \n",
    "end = datetime.now() \n",
    "end-start"
   ]
  },
  {
   "cell_type": "code",
   "execution_count": 37,
   "id": "0712286b",
   "metadata": {},
   "outputs": [],
   "source": [
    "fig.suptitle(\"AgglomerativeClustering\")\n",
    "from sklearn.cluster import KMeans\n",
    "n_clusters=10\n",
    "kmeans = KMeans(n_clusters, random_state=1).fit(embedding3)\n",
    "y_pred = kmeans.labels_\n",
    "cluster_center = kmeans.cluster_centers_"
   ]
  },
  {
   "cell_type": "code",
   "execution_count": 38,
   "id": "4d3b2845",
   "metadata": {},
   "outputs": [
    {
     "data": {
      "text/plain": [
       "Counter({5: 6, 8: 9, 2: 35, 7: 6, 4: 4, 6: 3, 3: 4, 9: 2, 1: 1, 0: 1})"
      ]
     },
     "execution_count": 38,
     "metadata": {},
     "output_type": "execute_result"
    }
   ],
   "source": [
    "from collections import Counter\n",
    "\n",
    "center_dict3 = Counter(y_pred)\n",
    "center_dict3"
   ]
  },
  {
   "cell_type": "code",
   "execution_count": 39,
   "id": "61a8ea63",
   "metadata": {},
   "outputs": [
    {
     "name": "stdout",
     "output_type": "stream",
     "text": [
      "Data in category 0:\n",
      "东西\tData in category 1:\n",
      "丈夫\tData in category 2:\n",
      "人\t风箱\t犁\t家\t话\t山\t小提琴\t弹簧\t应力\t屎\t\n",
      "\n",
      "火\t胳膊\t牛\t水\t灯\t门\t房间\t船\t心\t茬\t\n",
      "\n",
      "房门\t大家\t农具\t图\t泔水\t油\t货物\t步\t大嫂\t时候\t\n",
      "\n",
      "队长\t机\t猴\t雪橇\t物体\tData in category 3:\n",
      "妈\t妈妈\t爸爸\t姑娘\tData in category 4:\n",
      "骆驼\t二胡\t协奏曲\t胡琴\tData in category 5:\n",
      "手\t弦\t头\t脚\t一边\t嘴\tData in category 6:\n",
      "衣服\t衣襟\t衣角\tData in category 7:\n",
      "绳子\t儿子\t妻子\t身子\t椅子\t袖子\tData in category 8:\n",
      "车\t洋车\t马\t车子\t开关\t火车\t大车\t车厢\t客车\tData in category 9:\n",
      "声\t低声\t"
     ]
    }
   ],
   "source": [
    "for n_category in range(10):\n",
    "    res = np.array(texts3)[(y_pred == n_category)]\n",
    "    count = 0\n",
    "    print(f\"Data in category {n_category}:\")\n",
    "    count = 0\n",
    "    for word in res:\n",
    "        print(f\"{word}\\t\",end=\"\")\n",
    "        count = count + 1\n",
    "        if(count % 10 == 0):\n",
    "            print(f\"\\n\")"
   ]
  },
  {
   "cell_type": "code",
   "execution_count": 40,
   "id": "9a515283",
   "metadata": {},
   "outputs": [],
   "source": [
    "texts4=[\"人\", \"手\", \"力\", \"门\", \"力量\", \"车\", \"事\", \"车子\", \"工作\", \"头\", \"问题\", \"会议\", \"棒\", \"石头\", \"地\", \"钱\", \"家\", \"大家\", \"物体\", \"电荷\", \"磁极\"]"
   ]
  },
  {
   "cell_type": "code",
   "execution_count": 43,
   "id": "3dadc7f3",
   "metadata": {},
   "outputs": [
    {
     "name": "stdout",
     "output_type": "stream",
     "text": [
      "0\n"
     ]
    },
    {
     "data": {
      "text/plain": [
       "Counter({0: 4, 4: 3, 1: 2, 7: 2, 9: 3, 2: 2, 5: 2, 6: 1, 3: 1, 8: 1})"
      ]
     },
     "execution_count": 43,
     "metadata": {},
     "output_type": "execute_result"
    }
   ],
   "source": [
    "from datetime import datetime\n",
    "import numpy as np\n",
    "start = datetime.now()\n",
    "embedding4 = []\n",
    "\n",
    "for idx, line in enumerate(texts4):\n",
    "    vector = np.zeros(128)\n",
    "    \n",
    "    for word in line:\n",
    "        \n",
    "        if word not in model.key_to_index:\n",
    "            vector += np.zeros(128)\n",
    "        else:\n",
    "            vector += model[word]\n",
    "    embedding4.append(vector)\n",
    "    if (idx%100==0):\n",
    "        print(idx)\n",
    "    \n",
    "end = datetime.now() \n",
    "end-start\n",
    "\n",
    "from sklearn.cluster import KMeans\n",
    "n_clusters=10\n",
    "kmeans = KMeans(n_clusters, random_state=1).fit(embedding4)\n",
    "y_pred = kmeans.labels_\n",
    "cluster_center = kmeans.cluster_centers_\n",
    "\n",
    "from collections import Counter\n",
    "\n",
    "center_dict4 = Counter(y_pred)\n",
    "center_dict4"
   ]
  },
  {
   "cell_type": "code",
   "execution_count": 44,
   "id": "7fc263c2",
   "metadata": {},
   "outputs": [
    {
     "name": "stdout",
     "output_type": "stream",
     "text": [
      "Data in category 0:\n",
      "人\t门\t车\t车子\tData in category 1:\n",
      "力\t力量\tData in category 2:\n",
      "头\t石头\tData in category 3:\n",
      "电荷\tData in category 4:\n",
      "手\t会议\t地\tData in category 5:\n",
      "家\t大家\tData in category 6:\n",
      "物体\tData in category 7:\n",
      "事\t问题\tData in category 8:\n",
      "磁极\tData in category 9:\n",
      "工作\t棒\t钱\t"
     ]
    }
   ],
   "source": [
    "for n_category in range(10):\n",
    "    res = np.array(texts4)[(y_pred == n_category)]\n",
    "    count = 0\n",
    "    print(f\"Data in category {n_category}:\")\n",
    "    count = 0\n",
    "    for word in res:\n",
    "        print(f\"{word}\\t\",end=\"\")\n",
    "        count = count + 1\n",
    "        if(count % 10 == 0):\n",
    "            print(f\"\\n\")"
   ]
  },
  {
   "cell_type": "code",
   "execution_count": 8,
   "id": "c0cce039",
   "metadata": {},
   "outputs": [],
   "source": [
    "texts5=[\"门\", \"车\", \"车子\", \"人\", \"自行车\", \"小车\", \"步\", \"力\", \"山\", \"东西\", \"牌九\", \"大家\", \"木筏\", \"字\t\", \"代表\", \"恩\", \"水\", \"弓\", \"结果\", \"光\", \"米\", \"独轮车\", \"船\", \"磨\", \"声\", \"名\"]"
   ]
  },
  {
   "cell_type": "code",
   "execution_count": 9,
   "id": "849ce7f0",
   "metadata": {},
   "outputs": [
    {
     "name": "stdout",
     "output_type": "stream",
     "text": [
      "0\n"
     ]
    },
    {
     "data": {
      "text/plain": [
       "Counter({1: 11, 2: 4, 3: 3, 6: 1, 9: 1, 5: 2, 7: 1, 0: 1, 8: 1, 4: 1})"
      ]
     },
     "execution_count": 9,
     "metadata": {},
     "output_type": "execute_result"
    }
   ],
   "source": [
    "from datetime import datetime\n",
    "import numpy as np\n",
    "start = datetime.now()\n",
    "embedding5 = []\n",
    "\n",
    "for idx, line in enumerate(texts5):\n",
    "    vector = np.zeros(128)\n",
    "    \n",
    "    for word in line:\n",
    "        \n",
    "        if word not in model.key_to_index:\n",
    "            vector += np.zeros(128)\n",
    "        else:\n",
    "            vector += model[word]\n",
    "    embedding5.append(vector)\n",
    "    if (idx%100==0):\n",
    "        print(idx)\n",
    "    \n",
    "end = datetime.now() \n",
    "end-start"
   ]
  },
  {
   "cell_type": "code",
   "execution_count": null,
   "id": "941fe410",
   "metadata": {},
   "outputs": [],
   "source": [
    "nums=range(2,10)\n",
    "score=[]\n",
    "for num in nums:\n",
    "    clst=AgglomerativeClustering(n_clusters=num)\n",
    "    y=clst.fit_predict(embedding2)\n",
    "    score.append(silhouette_score(embedding5,y,sample_size=len(embedding5),metric='euclidean'))\n",
    "\n",
    "fig=plt.figure()\n",
    "ax=fig.add_subplot(1,1,1)\n",
    "ax.plot(nums,score,marker=\"+\")\n",
    "ax.set_xlabel(\"n_clusters\")\n",
    "ax.set_ylabel(\"silhouette_score\")\n",
    "fig.suptitle(\"AgglomerativeClustering\")\n",
    "plt.show()"
   ]
  },
  {
   "cell_type": "code",
   "execution_count": null,
   "id": "51167256",
   "metadata": {},
   "outputs": [],
   "source": [
    "clst=AgglomerativeClustering(n_clusters=6)\n",
    " \n",
    "clst.fit_predict(embedding5)"
   ]
  },
  {
   "cell_type": "code",
   "execution_count": null,
   "id": "eaa8e5ec",
   "metadata": {},
   "outputs": [],
   "source": [
    "from sklearn.cluster import KMeans\n",
    "n_clusters=10\n",
    "kmeans = KMeans(n_clusters, random_state=1).fit(embedding5)\n",
    "y_pred = kmeans.labels_\n",
    "cluster_center = kmeans.cluster_centers_\n",
    "\n",
    "from collections import Counter\n",
    "\n",
    "center_dict5 = Counter(y_pred)\n",
    "center_dict5"
   ]
  },
  {
   "cell_type": "code",
   "execution_count": 10,
   "id": "a487b39f",
   "metadata": {},
   "outputs": [
    {
     "name": "stdout",
     "output_type": "stream",
     "text": [
      "Data in category 0:\n",
      "米\tData in category 1:\n",
      "门\t步\t山\t代表\t恩\t水\t弓\t结果\t光\t磨\t\n",
      "\n",
      "名\tData in category 2:\n",
      "车\t车子\t自行车\t小车\tData in category 3:\n",
      "人\t字\t\t船\tData in category 4:\n",
      "声\tData in category 5:\n",
      "牌九\t木筏\tData in category 6:\n",
      "力\tData in category 7:\n",
      "大家\tData in category 8:\n",
      "独轮车\tData in category 9:\n",
      "东西\t"
     ]
    }
   ],
   "source": [
    "for n_category in range(10):\n",
    "    res = np.array(texts5)[(y_pred == n_category)]\n",
    "    count = 0\n",
    "    print(f\"Data in category {n_category}:\")\n",
    "    count = 0\n",
    "    for word in res:\n",
    "        print(f\"{word}\\t\",end=\"\")\n",
    "        count = count + 1\n",
    "        if(count % 10 == 0):\n",
    "            print(f\"\\n\")"
   ]
  },
  {
   "cell_type": "code",
   "execution_count": 2,
   "id": "d19737e9",
   "metadata": {},
   "outputs": [],
   "source": [
    "texts6=[\"马拉车\", \"手拉儿子\", \"马拉农具\", \"手拉山\", \"人拉手\", \"一手拉一手\", \"马拉犁\", \"大街拉人\", \"人拉肩\", \"母亲拉手\", \"疤拉疖子\", \"头拉手\", \"山坡拉绳子\", \"手榴弹拉火\", \"教授拉手\", \"老爷爷拉火车\", \"水平拉物体\", \"手拉弹簧\", \"力拉弹簧\"]"
   ]
  },
  {
   "cell_type": "code",
   "execution_count": 23,
   "id": "1ffb69d1",
   "metadata": {},
   "outputs": [],
   "source": [
    "df=pd.read_excel('NP+La+NP.xlsx')"
   ]
  },
  {
   "cell_type": "code",
   "execution_count": 24,
   "id": "86787996",
   "metadata": {},
   "outputs": [
    {
     "name": "stdout",
     "output_type": "stream",
     "text": [
      "0\n"
     ]
    },
    {
     "data": {
      "text/plain": [
       "Counter({5: 3, 6: 1, 1: 4, 7: 3, 2: 1, 9: 1, 0: 1, 8: 3, 3: 1, 4: 1})"
      ]
     },
     "execution_count": 24,
     "metadata": {},
     "output_type": "execute_result"
    }
   ],
   "source": [
    "from datetime import datetime\n",
    "import numpy as np\n",
    "start = datetime.now()\n",
    "embedding6 = []\n",
    "\n",
    "for idx, line in enumerate(texts6):\n",
    "    vector = np.zeros(128)\n",
    "    \n",
    "    for word in line:\n",
    "        \n",
    "        if word not in model.key_to_index:\n",
    "            vector += np.zeros(128)\n",
    "        else:\n",
    "            vector += model[word]\n",
    "    embedding6.append(vector)\n",
    "    if (idx%100==0):\n",
    "        print(idx)\n",
    "    \n",
    "end = datetime.now() \n",
    "end-start\n",
    "\n",
    "from sklearn.cluster import KMeans\n",
    "n_clusters=10\n",
    "kmeans = KMeans(n_clusters, random_state=1).fit(embedding6)\n",
    "y_pred = kmeans.labels_\n",
    "cluster_center = kmeans.cluster_centers_\n",
    "\n",
    "from collections import Counter\n",
    "\n",
    "center_dict6 = Counter(y_pred)\n",
    "center_dict6"
   ]
  },
  {
   "cell_type": "code",
   "execution_count": 25,
   "id": "a55a9c54",
   "metadata": {},
   "outputs": [
    {
     "data": {
      "image/png": "[encoded data removed]",
      "text/plain": [
       "<Figure size 432x288 with 1 Axes>"
      ]
     },
     "metadata": {
      "needs_background": "light"
     },
     "output_type": "display_data"
    }
   ],
   "source": [
    "nums=range(2,10)\n",
    "score=[]\n",
    "for num in nums:\n",
    "    clst=AgglomerativeClustering(n_clusters=num)\n",
    "    y=clst.fit_predict(embedding6)\n",
    "    score.append(silhouette_score(embedding6,y,sample_size=len(embedding6),metric='euclidean'))\n",
    "\n",
    "fig=plt.figure()\n",
    "ax=fig.add_subplot(1,1,1)\n",
    "ax.plot(nums,score,marker=\"+\")\n",
    "ax.set_xlabel(\"n_clusters\")\n",
    "ax.set_ylabel(\"silhouette_score\")\n",
    "fig.suptitle(\"AgglomerativeClustering\")\n",
    "plt.show()"
   ]
  },
  {
   "cell_type": "code",
   "execution_count": 27,
   "id": "5d28c83c",
   "metadata": {},
   "outputs": [
    {
     "data": {
      "text/plain": [
       "array([6, 1, 6, 4, 2, 7, 6, 2, 2, 4, 1, 4, 1, 0, 4, 5, 3, 0, 0],\n",
       "      dtype=int64)"
      ]
     },
     "execution_count": 27,
     "metadata": {},
     "output_type": "execute_result"
    }
   ],
   "source": [
    "clst=AgglomerativeClustering(n_clusters=8)\n",
    " \n",
    "clst.fit_predict(embedding6)"
   ]
  },
  {
   "cell_type": "code",
   "execution_count": 4,
   "id": "0ae48a20",
   "metadata": {},
   "outputs": [
    {
     "name": "stdout",
     "output_type": "stream",
     "text": [
      "Data in category 0:\n",
      "山坡拉绳子\tData in category 1:\n",
      "手拉山\t母亲拉手\t头拉手\t教授拉手\tData in category 2:\n",
      "一手拉一手\tData in category 3:\n",
      "老爷爷拉火车\tData in category 4:\n",
      "水平拉物体\tData in category 5:\n",
      "马拉车\t马拉农具\t马拉犁\tData in category 6:\n",
      "手拉儿子\tData in category 7:\n",
      "人拉手\t大街拉人\t人拉肩\tData in category 8:\n",
      "手榴弹拉火\t手拉弹簧\t力拉弹簧\tData in category 9:\n",
      "疤拉疖子\t"
     ]
    }
   ],
   "source": [
    "for n_category in range(10):\n",
    "    res = np.array(texts6)[(y_pred == n_category)]\n",
    "    count = 0\n",
    "    print(f\"Data in category {n_category}:\")\n",
    "    count = 0\n",
    "    for word in res:\n",
    "        print(f\"{word}\\t\",end=\"\")\n",
    "        count = count + 1\n",
    "        if(count % 10 == 0):\n",
    "            print(f\"\\n\")"
   ]
  },
  {
   "cell_type": "code",
   "execution_count": 85,
   "id": "e3ba62a5",
   "metadata": {},
   "outputs": [],
   "source": [
    "texts7=[\"市长推字\",\"头推门\",\"爸爸推门\",\"力量推山\",\"会议推代表\",\"通讯员推炮\",\"国会推总统\",\"战士推车\",\"车推炮\",\"事推事\",\"右手推山\",\"人推大家\",\"手推车\",\"秘书推门\",\"人推车子\",\"人推事\",\"门推门\",\"双手推人\",\"同志推木筏\",\"房间推门\",\"人推步\",\"通讯员推门\",\"工作推大家\",\"床推门\",\"钱推牌九\",\"浪推浪\",\"家推门\",\"车子推车\",\"同志推门\",\"手推门\",\"会议推行政\",\"大会推总统\",\"大家推代表\",\"人推人\",\"车推车\",\"扁担推磨\",\"问题推步\",\"力推东西\",\"孩子推大家\",\"声推门\",\"人推牌九\",\"人推车\",\"门推自行车\",\"人推门\",\"死地推全军\",\"电荷推异种\",\"磁极推名\",\"物体推门\",\"船推船\",\"层推力\",\"力推力\",\"脊推动物\",\"物体推力\",\"火推车\"]"
   ]
  },
  {
   "cell_type": "code",
   "execution_count": 87,
   "id": "d7e1334a",
   "metadata": {},
   "outputs": [
    {
     "name": "stdout",
     "output_type": "stream",
     "text": [
      "0\n"
     ]
    },
    {
     "data": {
      "text/plain": [
       "datetime.timedelta(microseconds=35728)"
      ]
     },
     "execution_count": 87,
     "metadata": {},
     "output_type": "execute_result"
    }
   ],
   "source": [
    "from datetime import datetime\n",
    "import numpy as np\n",
    "start = datetime.now()\n",
    "embedding7 = []\n",
    "\n",
    "for idx, line in enumerate(texts7):\n",
    "    vector = np.zeros(128)\n",
    "    \n",
    "    for word in line:\n",
    "        \n",
    "        if word not in model.key_to_index:\n",
    "            vector += np.zeros(128)\n",
    "        else:\n",
    "            vector += model[word]\n",
    "    embedding7.append(vector)\n",
    "    if (idx%100==0):\n",
    "        print(idx)\n",
    "    \n",
    "end = datetime.now() \n",
    "end-start"
   ]
  },
  {
   "cell_type": "code",
   "execution_count": 90,
   "id": "4510fa33",
   "metadata": {},
   "outputs": [
    {
     "data": {
      "image/png": "[encoded data removed]",
      "text/plain": [
       "<Figure size 432x288 with 1 Axes>"
      ]
     },
     "metadata": {
      "needs_background": "light"
     },
     "output_type": "display_data"
    }
   ],
   "source": [
    "nums=range(2,12)\n",
    "score=[]\n",
    "for num in nums:\n",
    "    clst=AgglomerativeClustering(n_clusters=num)\n",
    "    y=clst.fit_predict(embedding7)\n",
    "    score.append(silhouette_score(embedding7,y,sample_size=len(embedding7),metric='euclidean'))\n",
    "\n",
    "fig=plt.figure()\n",
    "ax=fig.add_subplot(1,1,1)\n",
    "ax.plot(nums,score,marker=\"+\")\n",
    "ax.set_xlabel(\"n_clusters\")\n",
    "ax.set_ylabel(\"silhouette_score\")\n",
    "fig.suptitle(\"AgglomerativeClustering\")\n",
    "plt.show()"
   ]
  },
  {
   "cell_type": "code",
   "execution_count": 91,
   "id": "fbc8906e",
   "metadata": {},
   "outputs": [
    {
     "data": {
      "text/plain": [
       "array([2, 6, 5, 7, 8, 1, 8, 0, 0, 4, 6, 2, 6, 5, 0, 4, 5, 6, 3, 5, 0, 1,\n",
       "       2, 5, 3, 1, 5, 0, 5, 6, 8, 8, 2, 0, 0, 1, 1, 3, 2, 5, 3, 0, 5, 5,\n",
       "       1, 3, 1, 5, 0, 7, 7, 1, 7, 0], dtype=int64)"
      ]
     },
     "execution_count": 91,
     "metadata": {},
     "output_type": "execute_result"
    }
   ],
   "source": [
    "clst=AgglomerativeClustering(n_clusters=9)\n",
    " \n",
    "clst.fit_predict(embedding7)"
   ]
  },
  {
   "cell_type": "code",
   "execution_count": null,
   "id": "681e65e7",
   "metadata": {},
   "outputs": [],
   "source": [
    "from sklearn.cluster import KMeans\n",
    "n_clusters=9\n",
    "kmeans = KMeans(n_clusters, random_state=1).fit(embedding7)\n",
    "y_pred = kmeans.labels_\n",
    "cluster_center = kmeans.cluster_centers_\n",
    "\n",
    "from collections import Counter\n",
    "\n",
    "center_dict7 = Counter(y_pred)\n",
    "center_dict7"
   ]
  },
  {
   "cell_type": "code",
   "execution_count": 58,
   "id": "640eed51",
   "metadata": {},
   "outputs": [
    {
     "name": "stdout",
     "output_type": "stream",
     "text": [
      "Data in category 0:\n",
      "区域推流域\t保修期推用户\t无产阶级专政推东西\t运动推奴隶制度\t问题推帝国主义\t宇宙观推政治\t士兵推山\t会议推代表\t国会推总统\t国会推实权\t\n",
      "\n",
      "团体推代表\t会议推行政\t常会推函\t实际推理论\t文化推高潮\t运动推波\t国推恩\t雕刻家推距离\t差异推心理\t渊源推我国\t\n",
      "\n",
      "本推源\t错处推学生\t行动者推山\t结构主义推文本\t贡献推工业\t代表人物推经济学家\t远处推劳动者\t中学生推人\t旗帜推科学\t军推恩\t\n",
      "\n",
      "国际上推顶\t众人推农业\t中央推科长\t市长推市长\t大臣推业报\t大家推经理\t会议推国民政府\t将领推国民\t会议推行政\t贤者推贤\t\n",
      "\n",
      "联合会推会长\t大家推代表\t夫推妇\t学科推祖国\t组推功课\t弟兄推当家人\t最后推教授\t良种推意义\t警推伯\t和尚推和尚\t\n",
      "\n",
      "理论推物质\t义推奇迹\t汉儒推义\t作品推封建制度\t礼俗推佛教\t思路推演绎\t定理推公理\t公理推结果\t概念推立体\t论域推理\t\n",
      "\n",
      "电荷推异种\t电荷推异种\t定律推压强\t三代推三代\t指示推世界\t世界推值\t数据推日\t学者推气候\t思路推系数\t关系推太阳\t\n",
      "\n",
      "性质推因素\t关系推气流\t理论推系统\t章推运动\t委员推主任\t初推体\t趋势推分析法\tData in category 1:\n",
      "问题推债\t事变推指挥官\t事推事\t事推意思\t人推事\t事儿推省\t月亮推事情\t人推话\t事推领导\t事推干部\t\n",
      "\n",
      "Data in category 2:\n",
      "革履推门\t观众推掌声\t丈夫推门\t门栓推门\t门推门\t门推股\t爸爸推门\t店主推门\t人员推医院\t声响推门\t\n",
      "\n",
      "区长推门\t房间推门\t秘书推门\t红卫兵推小门\t舅推门\t队部推门\t办公室推门\t院门推车\t糕点推门\t门口推门\t\n",
      "\n",
      "同时推门\t门推门\t草推门\t房间推门\t通讯员推门\t北屋推门\t茶房推门\t秘书推秘书\t声推窗\t床推门\t\n",
      "\n",
      "门推窗户\t永兴斋推门\t女佣人推门\t小孩推门\t怒火推门\t工推门\t家推门\t师长推门\t护士推门\t医院推门\t\n",
      "\n",
      "同志推门\t教室推座位\t寓推门\t指挥推门\t声推门\t家推门\t衣服推窗户\t大妈推门\t门推自行车\t人推门\t\n",
      "\n",
      "大夫推门\t部门推作用\t物体推门\tData in category 3:\n",
      "马达推车\t人群推车\t雪花推小车\t女人推行李车\t铁路推车子\t火车推牛皮\t大雾推自行车\t老工人推板车\t学生推自行车\t战士推车\t\n",
      "\n",
      "车推炮\t车夫推皇\t小姐推小车\t老师推自行车\t自行车推步\t车推货色\t车推家\t眼光推自行车\t人推车子\t满脸推车子\t\n",
      "\n",
      "饭馆推独轮车\t雨水推船\t老汉推独轮车\t车子推媳妇\t爸爸推女车\t泪水推航船\t车子推车\t土推车\t棍子推车座\t太阳推车子\t\n",
      "\n",
      "货推马\t老花眼镜推人\t祖父推车\t乡人推车\t车马推隙\t鱼推小东西\t耕牛推车子\t水泡推独轮车\t老农推自行车\t包推空车\t\n",
      "\n",
      "车推车\t小车推炭\t团长推自行车\t阿姨推餐车\t人推车\t主任推车子\t伯推小车\t妇道人家推车\t车子推来回\t船推船\t\n",
      "\n",
      "船推船\t工人推车\t火推车\tData in category 4:\n",
      "力量推山\t京剧推余年\t力量推青年\t气力推大路\t力推职员\t连长推劳力\t力推子弹\t力推枪\t力推东西\t语言推动力\t\n",
      "\n",
      "力推桌子\t力推加速度\t大力推加速度\t力推木箱\t间推力\t层推力\t层推力\t力推力\t力推木条\t力推重\t\n",
      "\n",
      "物体推力\t肌肉推握力\tData in category 5:\n",
      "人推步子\t圈儿推浪花\t介子推世人\t点子推声望\t话推孩子\t孩子推莲子\t两口子推小屋\t女儿推门\t瓶子推瓶子\t驴子推磨\t\n",
      "\n",
      "屯子推大半\t老大娘推被子\t小伙子推轮子\t巴掌推车子\t米推老子\t桌子推大声\t剪刀推子\t村子推村子\t少年推车子\t人推儿\t\n",
      "\n",
      "软垫推弟兄\t腕推衫子\t样子推门\t妹子推姑娘\t绳子推车子\t床推袜子\t孩子推大家\t小子推三轮车\t钱推碾子\t棒推绸子\t\n",
      "\n",
      "杆子推小车\tData in category 6:\n",
      "助手推门\t手工推光\t脚跟推手\t手推掌\t右手推山\t右手推须\t手推车\t手推老大\t手掌推母亲\t双手推人\t\n",
      "\n",
      "手臂推老子\t双手推胸脯\t伤推二把手\t二把手推千斤\t舅舅推二把手\t风格推选手\t妻推手\t手推栅门\t手推门\t地推腰\t\n",
      "\n",
      "事情推一把手\tData in category 7:\n",
      "头推门\t镜头推医院\t娘们推头\t头推劲\t头推铁路\t大部分推石头\t石头推砖瓦\t办法推墙头\t人推断头台\tData in category 8:\n",
      "西瓜推师傅\t劳动局推公安局\t公安局推劳动局\t队伍推数字\t思维推思路\t程度推其人\t东西推历史\t红卫兵推舞台\t风推云\t少妇推儿童\t\n",
      "\n",
      "班推木筏\t后端推木筏\t同志推木筏\t碗推菜叶子\t当局推地方\t家丁推箱笼\t意向推木轮\t同性恋推范围\t童子推坑\t炭推木料\t\n",
      "\n",
      "茶叶推起源\t风推树林子\t文字推青花\t喜鹊推乌鸦\t师傅推人\t医家推方\t萨满推结果\t司令部推司令\t特征推儿童\t基础推古音\t\n",
      "\n",
      "母语推古音\t方向推木块\t方向推质量\t太阳风推背向\t曲线推对象\tData in category 9:\n",
      "思想推地位\t弊病推其咎\t市长推字\t判词推度\t当地推煎饼\t角推连珠炮\t人推才\t滚推板\t冰库推满装\t导弹推火箭\t\n",
      "\n",
      "矛盾推辩证术\t通讯员推炮\t嫌隙推人\t距离推人\t潮水推作者\t环推环\t弧形推弓\t动作推弓\t一代推结果\t线推面\t\n",
      "\n",
      "诗人推字\t须推须\t人推招\t掌推件\t眼睛推账房\t麻团推地道\t人推大家\t大队长推杯\t跟前推菜\t猪推米\t\n",
      "\n",
      "媳妇推米\t婚礼推心肠\t电工推会议\t粮票推女的\t嘴推步\t纸牌推牌九\t猴推瘟\t地推地\t妇女推榆树\t扁担推麦秸\t\n",
      "\n",
      "人推炸药\t跳板推木筏\t人推步\t衣裳推一边\t工作推大家\t好人推长官\t杠推焊条\t眼睛推闺女\t群众推大路\t局长推局长\t\n",
      "\n",
      "钱推牌九\t浪推浪\t衣襟推东西\t空当推声\t人民推火箭\t马推磨\t冤案推杀人罪\t衣裤推凳\t排推排\t条推下一步\t\n",
      "\n",
      "铅球推米\t大会推汗\t难题推人\t大会推总统\t决议推人\t节推序\t精神推问题\t厂推地球\t钢板推油\t目光推疾步\t\n",
      "\n",
      "拳推鞋\t坡推砂\t人推人\t场推陀螺\t扁担推磨\t秘密推件\t地板推人\t子弹推膛\t个人推声\t腰推人\t\n",
      "\n",
      "问题推步\t火推花爆\t杆推舵\t书本推书桌\t速度推飞机\t物体推时候\t胳膊推奶奶\t细胞推表皮\t人推牌九\t浪推浪\t\n",
      "\n",
      "劲推屁股\t老板推套间\t弹推器\t死地推全军\t死地推全军\t旨推恩\t甲推其人\t韵推框架\t诗推寓所\t所得推全体\t\n",
      "\n",
      "意推本\t时间推铅球\t定理推下面\t棒推图\t棒推毛皮\t针推条形\t磁极推名\t磁极推名\t螺旋桨推水\t劈推物体\t\n",
      "\n",
      "磁极推名\t脊推动物\t脊推动物\t舌推作用\t血亲推三代\t谱推值\t芽片推芽片\t静脉推葡萄糖\t颈部推颌骨\t血滴推层\t\n",
      "\n",
      "肠胃推水\t基态推态\t人员推轮椅\t经度推表\t趋势推计算机\t战士推火坑\t"
     ]
    }
   ],
   "source": [
    "for n_category in range(9):\n",
    "    res = np.array(texts7)[(y_pred == n_category)]\n",
    "    count = 0\n",
    "    print(f\"Data in category {n_category}:\")\n",
    "    count = 0\n",
    "    for word in res:\n",
    "        print(f\"{word}\\t\",end=\"\")\n",
    "        count = count + 1\n",
    "        if(count % 10 == 0):\n",
    "            print(f\"\\n\")"
   ]
  },
  {
   "cell_type": "code",
   "execution_count": 51,
   "id": "2d2009d8",
   "metadata": {},
   "outputs": [],
   "source": [
    "texts8=[\"手拉\",\"人拉\",\"马拉\",\"车拉\",\"头拉\",\"声拉\",\"力拉\",\"绳子拉\",\"火车拉\",\"衣服拉\",\"姑娘拉\",\"家拉\",\"距离拉\",\"格拉\",\"右手拉\",\"时间拉\",\"双手拉\",\"时候拉\",\"妈拉\",\"腿拉\",\"先生拉\",\"大家拉\",\"东西拉\",\"老牛拉\",\"战线拉\",\"男人拉\",\"牛拉\",\"掌拉\",\"子拉\",\"话拉\",\"力气拉\",\"孩子拉\",\"方向拉\",\"老人拉\",\"下意识拉\",\"水拉\",\"音拉\",\"身拉\",\"队拉\",\"网拉\",\"妇拉\",\"兄弟拉\",\"狗拉\",\"车子拉\",\"球拉\"]"
   ]
  },
  {
   "cell_type": "code",
   "execution_count": 52,
   "id": "abc2faee",
   "metadata": {},
   "outputs": [
    {
     "name": "stdout",
     "output_type": "stream",
     "text": [
      "0\n"
     ]
    },
    {
     "data": {
      "text/plain": [
       "datetime.timedelta(microseconds=996)"
      ]
     },
     "execution_count": 52,
     "metadata": {},
     "output_type": "execute_result"
    }
   ],
   "source": [
    "from datetime import datetime\n",
    "import numpy as np\n",
    "start = datetime.now()\n",
    "embedding8 = []\n",
    "\n",
    "for idx, line in enumerate(texts8):\n",
    "    vector = np.zeros(128)\n",
    "    \n",
    "    for word in line:\n",
    "        \n",
    "        if word not in model.key_to_index:\n",
    "            vector += np.zeros(128)\n",
    "        else:\n",
    "            vector += model[word]\n",
    "    embedding8.append(vector)\n",
    "    if (idx%100==0):\n",
    "        print(idx)\n",
    "    \n",
    "end = datetime.now() \n",
    "end-start"
   ]
  },
  {
   "cell_type": "code",
   "execution_count": 53,
   "id": "64f737f0",
   "metadata": {
    "scrolled": true
   },
   "outputs": [
    {
     "data": {
      "image/png": "[encoded data removed]",
      "text/plain": [
       "<Figure size 432x288 with 1 Axes>"
      ]
     },
     "metadata": {
      "needs_background": "light"
     },
     "output_type": "display_data"
    }
   ],
   "source": [
    "nums=range(2,10)\n",
    "score=[]\n",
    "for num in nums:\n",
    "    clst=AgglomerativeClustering(n_clusters=num)\n",
    "    y=clst.fit_predict(embedding6)\n",
    "    score.append(silhouette_score(embedding6,y,sample_size=len(embedding6),metric='euclidean'))\n",
    "\n",
    "fig=plt.figure()\n",
    "ax=fig.add_subplot(1,1,1)\n",
    "ax.plot(nums,score,marker=\"+\")\n",
    "ax.set_xlabel(\"n_clusters\")\n",
    "ax.set_ylabel(\"silhouette_score\")\n",
    "fig.suptitle(\"AgglomerativeClustering\")\n",
    "plt.show()"
   ]
  },
  {
   "cell_type": "code",
   "execution_count": 54,
   "id": "8f0eee3a",
   "metadata": {},
   "outputs": [
    {
     "data": {
      "text/plain": [
       "array([7, 2, 0, 0, 7, 0, 5, 3, 0, 0, 3, 0, 4, 0, 7, 1, 7, 1, 0, 7, 0, 0,\n",
       "       4, 0, 0, 2, 0, 7, 3, 0, 5, 3, 6, 2, 1, 0, 0, 7, 0, 0, 0, 3, 0, 0,\n",
       "       0], dtype=int64)"
      ]
     },
     "execution_count": 54,
     "metadata": {},
     "output_type": "execute_result"
    }
   ],
   "source": [
    "clst=AgglomerativeClustering(n_clusters=8)\n",
    " \n",
    "clst.fit_predict(embedding8)"
   ]
  },
  {
   "cell_type": "code",
   "execution_count": null,
   "id": "eb58c075",
   "metadata": {},
   "outputs": [],
   "source": [
    "from sklearn.cluster import KMeans\n",
    "n_clusters=8\n",
    "kmeans = KMeans(n_clusters, random_state=1).fit(embedding8)\n",
    "y_pred = kmeans.labels_\n",
    "cluster_center = kmeans.cluster_centers_\n",
    "\n",
    "from collections import Counter\n",
    "\n",
    "center_dict8 = Counter(y_pred)\n",
    "center_dict8"
   ]
  },
  {
   "cell_type": "code",
   "execution_count": 42,
   "id": "b4220963",
   "metadata": {},
   "outputs": [
    {
     "name": "stdout",
     "output_type": "stream",
     "text": [
      "Data in category 0:\n",
      "手拉\t头拉\t绳子拉\t右手拉\t双手拉\t腿拉\t掌拉\t下意识拉\tData in category 1:\n",
      "人拉\t时候拉\t男人拉\t老人拉\tData in category 2:\n",
      "马拉\t车拉\t声拉\t火车拉\t衣服拉\t姑娘拉\t家拉\t距离拉\t格拉\t时间拉\t\n",
      "\n",
      "妈拉\t先生拉\t大家拉\t东西拉\t老牛拉\t战线拉\t牛拉\t子拉\t话拉\t孩子拉\t\n",
      "\n",
      "方向拉\t水拉\t音拉\tData in category 3:\n",
      "力拉\t力气拉\t"
     ]
    }
   ],
   "source": [
    "for n_category in range(4):\n",
    "    res = np.array(texts8)[(y_pred == n_category)]\n",
    "    count = 0\n",
    "    print(f\"Data in category {n_category}:\")\n",
    "    count = 0\n",
    "    for word in res:\n",
    "        print(f\"{word}\\t\",end=\"\")\n",
    "        count = count + 1\n",
    "        if(count % 10 == 0):\n",
    "            print(f\"\\n\")"
   ]
  },
  {
   "cell_type": "code",
   "execution_count": 69,
   "id": "cb3db88b",
   "metadata": {},
   "outputs": [],
   "source": [
    "texts9=[\"拉手\",\"拉胳膊\",\"拉头\",\"拉衣襟\",\"拉衣角\",\"拉嘴\",\"拉脚\",\"拉袖子\",\"拉大家\",\"拉大车\",\"拉心\",\"拉水\",\"拉协奏曲\",\"拉一边\",\"拉泔水\",\"拉低声\",\"拉灯\",\"拉油\",\"拉开关\",\"拉步\",\"拉胡琴\",\"拉客车\",\"拉马\",\"拉洋车\",\"拉家\",\"拉人\",\"拉牛\",\"拉山\",\"拉弹簧\",\"拉犁\",\"拉骆驼\",\"拉风箱\",\"拉车\",\"拉衣服\",\"拉火\",\"拉二胡\",\"拉屎\",\"拉爸爸\",\"拉大嫂\",\"拉队长\",\"拉姑娘\",\"拉丈夫\",\"拉妈\",\"拉妻子\",\"拉妈妈\",\"拉椅子\",\"拉房间\",\"拉车厢\",\"拉话\",\"拉弦\",\"拉门\",\"拉房门\"]"
   ]
  },
  {
   "cell_type": "code",
   "execution_count": 70,
   "id": "aac93fc1",
   "metadata": {},
   "outputs": [
    {
     "name": "stdout",
     "output_type": "stream",
     "text": [
      "0\n"
     ]
    },
    {
     "data": {
      "text/plain": [
       "datetime.timedelta(microseconds=3974)"
      ]
     },
     "execution_count": 70,
     "metadata": {},
     "output_type": "execute_result"
    }
   ],
   "source": [
    "from datetime import datetime\n",
    "import numpy as np\n",
    "start = datetime.now()\n",
    "embedding9 = []\n",
    "\n",
    "for idx, line in enumerate(texts9):\n",
    "    vector = np.zeros(128)\n",
    "    \n",
    "    for word in line:\n",
    "        \n",
    "        if word not in model.key_to_index:\n",
    "            vector += np.zeros(128)\n",
    "        else:\n",
    "            vector += model[word]\n",
    "    embedding9.append(vector)\n",
    "    if (idx%100==0):\n",
    "        print(idx)\n",
    "    \n",
    "end = datetime.now() \n",
    "end-start"
   ]
  },
  {
   "cell_type": "code",
   "execution_count": 71,
   "id": "7a639585",
   "metadata": {},
   "outputs": [
    {
     "data": {
      "image/png": "[encoded data removed]",
      "text/plain": [
       "<Figure size 432x288 with 1 Axes>"
      ]
     },
     "metadata": {
      "needs_background": "light"
     },
     "output_type": "display_data"
    }
   ],
   "source": [
    "nums=range(2,10)\n",
    "score=[]\n",
    "for num in nums:\n",
    "    clst=AgglomerativeClustering(n_clusters=num)\n",
    "    y=clst.fit_predict(embedding9)\n",
    "    score.append(silhouette_score(embedding9,y,sample_size=len(embedding9),metric='euclidean'))\n",
    "\n",
    "fig=plt.figure()\n",
    "ax=fig.add_subplot(1,1,1)\n",
    "ax.plot(nums,score,marker=\"+\")\n",
    "ax.set_xlabel(\"n_clusters\")\n",
    "ax.set_ylabel(\"silhouette_score\")\n",
    "fig.suptitle(\"AgglomerativeClustering\")\n",
    "plt.show()"
   ]
  },
  {
   "cell_type": "code",
   "execution_count": 67,
   "id": "2d965cba",
   "metadata": {},
   "outputs": [
    {
     "data": {
      "text/plain": [
       "array([0, 0, 0, 5, 5, 0, 0, 6, 2, 2, 0, 0, 1, 2, 0, 0, 0, 0, 0, 1, 1, 7,\n",
       "       1, 7, 2, 0, 1, 0, 0, 0, 1, 0, 7, 5, 0, 1, 0, 3, 2, 0, 3, 0, 3, 6,\n",
       "       3, 6, 4, 7, 0, 0, 4, 4], dtype=int64)"
      ]
     },
     "execution_count": 67,
     "metadata": {},
     "output_type": "execute_result"
    }
   ],
   "source": [
    "clst=AgglomerativeClustering(n_clusters=8)\n",
    " \n",
    "clst.fit_predict(embedding9)"
   ]
  },
  {
   "cell_type": "code",
   "execution_count": null,
   "id": "ec704ec7",
   "metadata": {},
   "outputs": [],
   "source": [
    "from sklearn.cluster import KMeans\n",
    "n_clusters=8\n",
    "kmeans = KMeans(n_clusters, random_state=1).fit(embedding9)\n",
    "y_pred = kmeans.labels_\n",
    "cluster_center = kmeans.cluster_centers_\n",
    "\n",
    "from collections import Counter\n",
    "\n",
    "center_dict9 = Counter(y_pred)\n",
    "center_dict9"
   ]
  },
  {
   "cell_type": "code",
   "execution_count": 66,
   "id": "d510ea17",
   "metadata": {},
   "outputs": [
    {
     "name": "stdout",
     "output_type": "stream",
     "text": [
      "Data in category 0:\n",
      "拉手\t拉双手\t拉头\t拉床头\t拉鬼脸\t拉手铐\t拉牛头\t拉头缆\t拉脸\t拉两手\t\n",
      "\n",
      "拉刺头\t拉右手\tData in category 1:\n",
      "拉马\t拉话\t拉开关\t拉家常\t拉妈\t拉家\t拉海\t拉工作\t拉朋友\t拉螃蟹\t\n",
      "\n",
      "拉总统\t拉家伙\t拉麦穗\t拉钩\t拉表妹\t拉伴\t拉动作\t拉舞蹈\t拉闺女\t拉泔水\t\n",
      "\n",
      "拉屎\t拉铃\t拉墨绿色\t拉客\t拉火\t拉秫秸\t拉明\t拉丈夫\t拉犁\t拉夫\t\n",
      "\n",
      "拉产妇\t拉爹\t拉代表\t拉处\t拉琴\t拉秧\t拉事故\t拉沙\t拉磨\t拉龙\t\n",
      "\n",
      "拉他家\t拉边\t拉策略\t拉牛\t拉主任\t拉心\t拉情况\t拉兵\t拉苍蝇\t拉电视\t\n",
      "\n",
      "拉爷爷\t拉女\t拉水\t拉股\t拉天\t拉责任\t拉肥料\t拉洋片\t拉老婆\t拉铧犁\t\n",
      "\n",
      "拉嫌疑犯\t拉格\t拉石料\tData in category 2:\n",
      "拉沟鼠\t拉广场\t拉组\t拉山\t拉餐馆\t拉两下\t拉团\t拉低声\t拉社\t拉民团\t\n",
      "\n",
      "拉军长\t拉后园\t拉队长\t拉最后\t拉公园\t拉亚军\t拉老乡\t拉队\t拉营业所\t拉体操队\t\n",
      "\n",
      "拉蚂蚁\t拉组长\t拉外村\t拉部分\t拉房间\t拉医师\t拉甲虫\t拉派出所\t拉轻声\t拉牲口\t\n",
      "\n",
      "拉社长\t拉团长\tData in category 3:\n",
      "拉里间\t拉心里话\t拉空间\tData in category 4:\n",
      "拉风箱\t拉车\t拉弦\t拉洋车\t拉一边\t拉耳朵\t拉衣襟\t拉嘴\t拉脚\t拉衣服\t\n",
      "\n",
      "拉步\t拉弹簧\t拉衣角\t拉房门\t拉门\t拉缰绳\t拉车道\t拉土豆\t拉石碾\t拉墙角\t\n",
      "\n",
      "拉操纵杆\t拉油\t拉灯\t拉桌\t拉长椅\t拉墙\t拉地\t拉枪\t拉导火线\t拉炕\t\n",
      "\n",
      "拉刀\t拉袋\t拉后腿\t拉街道\t拉牌桌\t拉茶花\t拉肩膀\t拉一溜\t拉圈\t拉脚步\t\n",
      "\n",
      "拉泪花\t拉地藏庵\t拉车场\t拉弓弦\t拉墙根\t拉一角\t拉一阵风\t拉颈\t拉客车\t拉货车\t\n",
      "\n",
      "拉车厢\t拉将门\t拉列车\t拉歪道\t拉胳膊\t拉橡皮\tData in category 5:\n",
      "拉老太太\tData in category 6:\n",
      "拉人\t拉男人\t拉歌\t拉字\t拉女人\t拉诗\t拉诗人\tData in category 7:\n",
      "拉协奏曲\t拉胡琴\t拉骆驼\t拉白娘观\t拉水田\t拉孙子\t拉孙娃\t拉红卫兵\t拉文章\t拉雷\t\n",
      "\n",
      "拉二胡\t拉壮丁\t拉方向\tData in category 8:\n",
      "拉大门\t拉大娘\t拉爸爸\t拉大夫\t拉妈妈\t拉小调\t拉姑奶奶\t拉大伯\t拉高个子\t拉姑娘\t\n",
      "\n",
      "拉大哥\t拉大家\t拉大嫂\t拉大车\tData in category 9:\n",
      "拉袖子\t拉杆子\t拉鼻子\t拉小伙子\t拉褶子\t拉架子车\t拉被子\t拉碾子\t拉莲子\t拉圈儿\t\n",
      "\n",
      "拉女儿\t拉棍子\t拉种子\t拉辫子\t拉妻子\t拉二流子\t拉砘子\t拉儿\t拉裙子\t拉裤子\t\n",
      "\n",
      "拉股子\t拉椅子\t拉凳子\t"
     ]
    }
   ],
   "source": [
    "for n_category in range(9):\n",
    "    res = np.array(texts9)[(y_pred == n_category)]\n",
    "    count = 0\n",
    "    print(f\"Data in category {n_category}:\")\n",
    "    count = 0\n",
    "    for word in res:\n",
    "        print(f\"{word}\\t\",end=\"\")\n",
    "        count = count + 1\n",
    "        if(count % 10 == 0):\n",
    "            print(f\"\\n\")"
   ]
  },
  {
   "cell_type": "code",
   "execution_count": 73,
   "id": "7d521628",
   "metadata": {},
   "outputs": [],
   "source": [
    "texts10=[\"人推\",\"手推\",\"门推\",\"力量推\",\"车推\",\"事推\",\"车子推\",\"工作推\",\"头推\",\"问题推\",\"棒推\",\"石头推\",\"地推\",\"钱推\",\"家推\",\"大家推\",\"电荷推\"]"
   ]
  },
  {
   "cell_type": "code",
   "execution_count": 74,
   "id": "3c9ae5d2",
   "metadata": {},
   "outputs": [
    {
     "name": "stdout",
     "output_type": "stream",
     "text": [
      "0\n"
     ]
    },
    {
     "data": {
      "text/plain": [
       "datetime.timedelta(microseconds=14960)"
      ]
     },
     "execution_count": 74,
     "metadata": {},
     "output_type": "execute_result"
    }
   ],
   "source": [
    "from datetime import datetime\n",
    "import numpy as np\n",
    "start = datetime.now()\n",
    "embedding10 = []\n",
    "\n",
    "for idx, line in enumerate(texts10):\n",
    "    vector = np.zeros(128)\n",
    "    \n",
    "    for word in line:\n",
    "        \n",
    "        if word not in model.key_to_index:\n",
    "            vector += np.zeros(128)\n",
    "        else:\n",
    "            vector += model[word]\n",
    "    embedding10.append(vector)\n",
    "    if (idx%100==0):\n",
    "        print(idx)\n",
    "    \n",
    "end = datetime.now() \n",
    "end-start"
   ]
  },
  {
   "cell_type": "code",
   "execution_count": 75,
   "id": "0bddb13b",
   "metadata": {},
   "outputs": [
    {
     "data": {
      "image/png": "[encoded data removed]",
      "text/plain": [
       "<Figure size 432x288 with 1 Axes>"
      ]
     },
     "metadata": {
      "needs_background": "light"
     },
     "output_type": "display_data"
    }
   ],
   "source": [
    "nums=range(2,10)\n",
    "score=[]\n",
    "for num in nums:\n",
    "    clst=AgglomerativeClustering(n_clusters=num)\n",
    "    y=clst.fit_predict(embedding10)\n",
    "    score.append(silhouette_score(embedding10,y,sample_size=len(embedding10),metric='euclidean'))\n",
    "\n",
    "fig=plt.figure()\n",
    "ax=fig.add_subplot(1,1,1)\n",
    "ax.plot(nums,score,marker=\"+\")\n",
    "ax.set_xlabel(\"n_clusters\")\n",
    "ax.set_ylabel(\"silhouette_score\")\n",
    "fig.suptitle(\"AgglomerativeClustering\")\n",
    "plt.show()"
   ]
  },
  {
   "cell_type": "code",
   "execution_count": 77,
   "id": "771f8ff8",
   "metadata": {},
   "outputs": [
    {
     "data": {
      "text/plain": [
       "array([1, 7, 2, 5, 2, 0, 2, 1, 3, 0, 1, 3, 1, 1, 6, 6, 4], dtype=int64)"
      ]
     },
     "execution_count": 77,
     "metadata": {},
     "output_type": "execute_result"
    }
   ],
   "source": [
    "clst=AgglomerativeClustering(n_clusters=8)\n",
    " \n",
    "clst.fit_predict(embedding10)"
   ]
  },
  {
   "cell_type": "code",
   "execution_count": null,
   "id": "9e863e2f",
   "metadata": {},
   "outputs": [],
   "source": [
    "from sklearn.cluster import KMeans\n",
    "n_clusters=8\n",
    "kmeans = KMeans(n_clusters, random_state=1).fit(embedding10)\n",
    "y_pred = kmeans.labels_\n",
    "cluster_center = kmeans.cluster_centers_\n",
    "\n",
    "from collections import Counter\n",
    "\n",
    "center_dict10 = Counter(y_pred)\n",
    "center_dict10"
   ]
  },
  {
   "cell_type": "code",
   "execution_count": 72,
   "id": "f765e7ae",
   "metadata": {},
   "outputs": [
    {
     "name": "stdout",
     "output_type": "stream",
     "text": [
      "Data in category 0:\n",
      "气力推\t力量推\tData in category 1:\n",
      "机器推\t石头推\t书推\t笔记本推\t石坡推\t钱推\t勤务兵推\t眼镜推\tData in category 2:\n",
      "办公室推\t父亲推\t爷爷推\t家伙推\t姑娘推\t教授推\t爹推\t医生推\t他家推\t家当推\t\n",
      "\n",
      "小孩子推\t乡亲推\t大家推\t家推\tData in category 3:\n",
      "时事教育推\t事情推\t事推\t往事推\t事业推\tData in category 4:\n",
      "空车推\t车推\t车子推\t车门推\t三轮车推\t汽车推\t货车推\tData in category 5:\n",
      "上司推\t对方推\t公司推\t脊梁推\t丘八推\t步推\t时候推\t庞然大物推\t儿童推\t内容推\t\n",
      "\n",
      "Data in category 6:\n",
      "同志们推\t朋友们推\tData in category 7:\n",
      "工作推\t企业推\t数目字推\t案情推\t茶杯推\t手推\t肘推\t刻刀推\t操纵杆推\t句推\t\n",
      "\n",
      "时刻推\t法推\t责任推\t问题推\t势推\t音节推\t后继者推\t例推\t蜡烛推\t害处推\t\n",
      "\n",
      "戏推\t驼背推\t角推\t头推\t地窨推\t脑门推\t人推\t瓶推\t专业推\t师长推\t\n",
      "\n",
      "转经轮推\t食指推\t炕推\t女的推\t贼推\t脸色推\t胳膊推\t八路推\t火坑推\t地推\t\n",
      "\n",
      "身体推\t借口推\t姿势推\t篮推\t门推\t局长推\t信推\t蛇推\t教导员推\t腕推\t\n",
      "\n",
      "山推\t苕帚推\t个性推\t水浪推\t班推\t宝座推\t碗推\t结果推\t脚推\t工具推\t\n",
      "\n",
      "一溜推\t当胸推\t得失推\t泥土推\t棋推\t期限推\t手法推\t佛陀推\t功推\t知识推\t\n",
      "\n",
      "结论推\t可怜相推\t棒推\t电荷推\t弹簧推\t产品推\tData in category 8:\n",
      "高处推\t高潮推\tData in category 9:\n",
      "蒙面人推\t"
     ]
    }
   ],
   "source": [
    "for n_category in range(8):\n",
    "    res = np.array(texts10)[(y_pred == n_category)]\n",
    "    count = 0\n",
    "    print(f\"Data in category {n_category}:\")\n",
    "    count = 0\n",
    "    for word in res:\n",
    "        print(f\"{word}\\t\",end=\"\")\n",
    "        count = count + 1\n",
    "        if(count % 10 == 0):\n",
    "            print(f\"\\n\")"
   ]
  },
  {
   "cell_type": "code",
   "execution_count": 81,
   "id": "91656b3f",
   "metadata": {},
   "outputs": [],
   "source": [
    "texts11=[\"推门\",\"推车\",\"推车子\",\"推人\",\"推自行车\",\"推小车\",\"推步\",\"推东西\",\"推牌九\",\"推大家\",\"推字\",\"推水\",\"推弓\",\"推光\",\"推声\"]"
   ]
  },
  {
   "cell_type": "code",
   "execution_count": 82,
   "id": "1afcefcb",
   "metadata": {},
   "outputs": [
    {
     "name": "stdout",
     "output_type": "stream",
     "text": [
      "0\n"
     ]
    },
    {
     "data": {
      "text/plain": [
       "datetime.timedelta(microseconds=6981)"
      ]
     },
     "execution_count": 82,
     "metadata": {},
     "output_type": "execute_result"
    }
   ],
   "source": [
    "from datetime import datetime\n",
    "import numpy as np\n",
    "start = datetime.now()\n",
    "embedding11 = []\n",
    "\n",
    "for idx, line in enumerate(texts11):\n",
    "    vector = np.zeros(128)\n",
    "    \n",
    "    for word in line:\n",
    "        \n",
    "        if word not in model.key_to_index:\n",
    "            vector += np.zeros(128)\n",
    "        else:\n",
    "            vector += model[word]\n",
    "    embedding11.append(vector)\n",
    "    if (idx%100==0):\n",
    "        print(idx)\n",
    "    \n",
    "end = datetime.now() \n",
    "end-start"
   ]
  },
  {
   "cell_type": "code",
   "execution_count": 83,
   "id": "c708154d",
   "metadata": {},
   "outputs": [
    {
     "data": {
      "image/png": "[encoded data removed]",
      "text/plain": [
       "<Figure size 432x288 with 1 Axes>"
      ]
     },
     "metadata": {
      "needs_background": "light"
     },
     "output_type": "display_data"
    }
   ],
   "source": [
    "nums=range(2,10)\n",
    "score=[]\n",
    "for num in nums:\n",
    "    clst=AgglomerativeClustering(n_clusters=num)\n",
    "    y=clst.fit_predict(embedding11)\n",
    "    score.append(silhouette_score(embedding11,y,sample_size=len(embedding11),metric='euclidean'))\n",
    "\n",
    "fig=plt.figure()\n",
    "ax=fig.add_subplot(1,1,1)\n",
    "ax.plot(nums,score,marker=\"+\")\n",
    "ax.set_xlabel(\"n_clusters\")\n",
    "ax.set_ylabel(\"silhouette_score\")\n",
    "fig.suptitle(\"AgglomerativeClustering\")\n",
    "plt.show()"
   ]
  },
  {
   "cell_type": "code",
   "execution_count": 1,
   "id": "f64c91d0",
   "metadata": {},
   "outputs": [
    {
     "ename": "NameError",
     "evalue": "name 'AgglomerativeClustering' is not defined",
     "output_type": "error",
     "traceback": [
      "\u001b[1;31m---------------------------------------------------------------------------\u001b[0m",
      "\u001b[1;31mNameError\u001b[0m                                 Traceback (most recent call last)",
      "\u001b[1;32m~\\AppData\\Local\\Temp/ipykernel_65884/1111082182.py\u001b[0m in \u001b[0;36m<module>\u001b[1;34m\u001b[0m\n\u001b[1;32m----> 1\u001b[1;33m \u001b[0mclst\u001b[0m\u001b[1;33m=\u001b[0m\u001b[0mAgglomerativeClustering\u001b[0m\u001b[1;33m(\u001b[0m\u001b[0mn_clusters\u001b[0m\u001b[1;33m=\u001b[0m\u001b[1;36m7\u001b[0m\u001b[1;33m)\u001b[0m\u001b[1;33m\u001b[0m\u001b[1;33m\u001b[0m\u001b[0m\n\u001b[0m\u001b[0;32m      2\u001b[0m \u001b[1;33m\u001b[0m\u001b[0m\n\u001b[0;32m      3\u001b[0m \u001b[0mclst\u001b[0m\u001b[1;33m.\u001b[0m\u001b[0mfit_predict\u001b[0m\u001b[1;33m(\u001b[0m\u001b[0membedding11\u001b[0m\u001b[1;33m)\u001b[0m\u001b[1;33m\u001b[0m\u001b[1;33m\u001b[0m\u001b[0m\n",
      "\u001b[1;31mNameError\u001b[0m: name 'AgglomerativeClustering' is not defined"
     ]
    }
   ],
   "source": [
    "clst=AgglomerativeClustering(n_clusters=7)\n",
    " \n",
    "clst.fit_predict(embedding11)"
   ]
  },
  {
   "cell_type": "code",
   "execution_count": null,
   "id": "6614c387",
   "metadata": {},
   "outputs": [],
   "source": [
    "from sklearn.cluster import KMeans\n",
    "n_clusters=7\n",
    "kmeans = KMeans(n_clusters, random_state=1).fit(embedding11)\n",
    "y_pred = kmeans.labels_\n",
    "cluster_center = kmeans.cluster_centers_\n",
    "\n",
    "from collections import Counter\n",
    "\n",
    "center_dict11 = Counter(y_pred)\n",
    "center_dict11"
   ]
  },
  {
   "cell_type": "code",
   "execution_count": 78,
   "id": "19456d87",
   "metadata": {},
   "outputs": [
    {
     "name": "stdout",
     "output_type": "stream",
     "text": [
      "Data in category 0:\n",
      "推墙壁\t推西皮\t推鞋垫\t推胶布\t推油漆\t推衣服\t推油桶\tData in category 1:\n",
      "推绳头\t推木头\tData in category 2:\n",
      "推小伙子\t推一辈子\t推车子\t推妻子\t推力量\t推轮子\t推儿子\t推气力\t推木轮\tData in category 3:\n",
      "推政府\t推耳朵\tData in category 4:\n",
      "推物理\t推途径\tData in category 5:\n",
      "推鼻梁\t推历史\t推对方\tData in category 6:\n",
      "推眼镜\t推眼泪\tData in category 7:\n",
      "推民\t推意思\t推佛教\t推天皇\t推朋友\t推爸爸\t推人生\t推政治\t推源\t推道德\t\n",
      "\n",
      "推距离\t推事实\t推原由\t推大家\t推共产党人\t推政委\t推面\t推人\t推字\t推中央\t\n",
      "\n",
      "推家\t推公寓\t推声\t推东西\t推研究所\tData in category 8:\n",
      "推自行车\t推工作\t推遗体\t推女尸\t推门\t推所得\t推身体\t推水\t推弓\t推窗\t\n",
      "\n",
      "推光\t推牌九\t推杯\t推把\t推背\t推炕\t推车\t推后背\t推墙\t推内室\t\n",
      "\n",
      "推妇女\t推市长\t推门房\t推坡\t推面额\t推塘\t推横\t推妹\t推土\t推好歹\t\n",
      "\n",
      "推步\t推跤\t推位\t推架\t推钱\t推蚂蚁\t推砂\t推箱\t推老伴\t推煤\t\n",
      "\n",
      "推数\t推猫\t推铁\t推号\t推乙\t推小车\t推粪\t推地\t推梢\t推大门\t\n",
      "\n",
      "推多元\t推三角形\t推系统\tData in category 9:\n",
      "推公园\t推白莲教\t推唐禅院\t推社会\t推山丘\t"
     ]
    }
   ],
   "source": [
    "for n_category in range(7):\n",
    "    res = np.array(texts11)[(y_pred == n_category)]\n",
    "    count = 0\n",
    "    print(f\"Data in category {n_category}:\")\n",
    "    count = 0\n",
    "    for word in res:\n",
    "        print(f\"{word}\\t\",end=\"\")\n",
    "        count = count + 1\n",
    "        if(count % 10 == 0):\n",
    "            print(f\"\\n\")"
   ]
  },
  {
   "cell_type": "code",
   "execution_count": null,
   "id": "a05cac9e",
   "metadata": {},
   "outputs": [],
   "source": []
  }
 ],
 "metadata": {
  "kernelspec": {
   "display_name": "Python 3 (ipykernel)",
   "language": "python",
   "name": "python3"
  },
  "language_info": {
   "codemirror_mode": {
    "name": "ipython",
    "version": 3
   },
   "file_extension": ".py",
   "mimetype": "text/x-python",
   "name": "python",
   "nbconvert_exporter": "python",
   "pygments_lexer": "ipython3",
   "version": "3.9.13"
  }
 },
 "nbformat": 4,
 "nbformat_minor": 5
}
